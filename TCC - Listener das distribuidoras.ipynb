{
 "cells": [
  {
   "cell_type": "code",
   "execution_count": 38,
   "metadata": {},
   "outputs": [],
   "source": [
    "# importar bibliotecas\n",
    "import tweepy\n",
    "import re\n",
    "import datetime\n",
    "import pandas as pd\n",
    "from datetime import datetime"
   ]
  },
  {
   "cell_type": "code",
   "execution_count": 2,
   "metadata": {},
   "outputs": [],
   "source": [
    "# Consumer keys e access tokens, para autenticação com OAuth\n",
    "consumer_key = 'XXXXXXXXX'\n",
    "consumer_secret = 'XXXXXXXXX'\n",
    "access_token = 'XXXXXXXXX'\n",
    "access_token_secret = 'XXXXXXXXX'"
   ]
  },
  {
   "cell_type": "code",
   "execution_count": 3,
   "metadata": {},
   "outputs": [],
   "source": [
    "auth = tweepy.OAuthHandler(consumer_key, consumer_secret)\n",
    "auth.set_access_token(access_token, access_token_secret)\n",
    "api = tweepy.API(auth)"
   ]
  },
  {
   "cell_type": "code",
   "execution_count": 4,
   "metadata": {},
   "outputs": [],
   "source": [
    "# twittes = api.home_timeline()\n",
    "# for tweet in twittes:\n",
    "#     print(tweet.text)"
   ]
  },
  {
   "cell_type": "code",
   "execution_count": 5,
   "metadata": {},
   "outputs": [],
   "source": [
    "#!pip install textblob"
   ]
  },
  {
   "cell_type": "code",
   "execution_count": 6,
   "metadata": {},
   "outputs": [],
   "source": [
    "from tweepy import Stream\n",
    "from tweepy import StreamListener\n",
    "import json\n",
    "from  textblob import TextBlob\n",
    "import re\n",
    "import csv"
   ]
  },
  {
   "cell_type": "code",
   "execution_count": 7,
   "metadata": {},
   "outputs": [],
   "source": [
    "distribuidoras = {'DistribuidoraTwitterAmazonasEnergia': '@Amazonasenergia', 'CEA': '@CEA_AP', 'CEB': '@CEBDistribuicao', \n",
    "         'CEEE': '@CEEE_IMPRENSA', 'Celesc': '@Celescoficial', 'Celpe': '@OficialCelpe', 'Cemig': '@cemig_energia',\n",
    "         'Cocel': '@cocel_pr', 'Coelba': '@OficialCoelba', 'Copel': '@copelenergiaPR', 'Cosern': '@OficialCosern',\n",
    "         'CPFL (Grupo)': '@cpflenergia', 'EDP': '@edpbr', 'Elektro': '@OficialElektro', 'Enel (Grupo)': '@EnelClientesBR',\n",
    "         'Energisa (Grupo)': '@energisa', 'Equatorial Alagoas': '@equatorialAL', 'Equatorial Maranhão': '@equatorial_ma', \n",
    "         'Equatorial Pará': '@equatorial_pa', 'Equatorial Piauí': '@equatorial_Pi', 'Light': '@lightclientes', \n",
    "         'RGE': '@rge_cpflenergia', 'Roraima Energia': '@Roraima_Energia'}"
   ]
  },
  {
   "cell_type": "code",
   "execution_count": 27,
   "metadata": {},
   "outputs": [],
   "source": [
    "def gatilho(dist, qtde):\n",
    "    print('Gatilho ativado com', qtde, 'para a distribuidora ', dist)"
   ]
  },
  {
   "cell_type": "code",
   "execution_count": 61,
   "metadata": {},
   "outputs": [],
   "source": [
    "Amazonasenergia = 0\n",
    "CEA_AP = 0\n",
    "CEBDistribuicao = 0\n",
    "CEEE_IMPRENSA = 0\n",
    "Celescoficial = 0\n",
    "OficialCelpe = 0\n",
    "cemig_energia = 0\n",
    "cocel_pr = 0\n",
    "OficialCoelba = 0\n",
    "copelenergiaPR = 0\n",
    "OficialCosern = 0\n",
    "cpflenergia = 0\n",
    "edpbr = 0\n",
    "OficialElektro = 0\n",
    "EnelClientesBR = 0\n",
    "energisa = 0\n",
    "equatorialAL = 0\n",
    "equatorial_ma = 0\n",
    "equatorial_pa = 0\n",
    "equatorial_Pi = 0\n",
    "lightclientes = 0\n",
    "rge_cpflenergia = 0\n",
    "Roraima_Energia = 0\n",
    "\n",
    "hora = datetime.now().hour\n",
    "\n",
    "limite = 200\n",
    "\n",
    "header_name = ['Light','Grupo Enel']\n",
    "\n",
    "with open('aneel_distribuidoras.csv', 'w') as file:\n",
    "    writer = csv.DictWriter(file, fieldnames=header_name)\n",
    "    writer.writeheader()\n",
    "\n",
    "class Listener(StreamListener):\n",
    "    \n",
    "    def on_data(self, data):\n",
    "        raw_twitts = json.loads(data)\n",
    "        try:\n",
    "            tweets = raw_twitts['text'].lower()\n",
    "\n",
    "            tweets = ' '.join(re.sub(\"([^0-9A-Za-z \\t])|(\\w+:\\/\\/\\S+)\", \" \", tweets).split())\n",
    "            tweets = ' '.join(re.sub('RT',' ', tweets).split())\n",
    "\n",
    "            blob = TextBlob(tweets.strip())\n",
    "\n",
    "            global lightclientes\n",
    "            global EnelClientesBR\n",
    "            global hora\n",
    "            global limite\n",
    "\n",
    "            light_conta = 0\n",
    "            enel_conta = 0\n",
    "            now = datetime.now().hour\n",
    "            for sent in blob.sentences:\n",
    "                if \"lightclientes\" in sent:\n",
    "                    enel_conta += 1\n",
    "                if \"enelclientesbr\" in sent:\n",
    "                    light_conta += 1\n",
    "\n",
    "            lightclientes = lightclientes + light_conta\n",
    "            EnelClientesBR = EnelClientesBR + enel_conta\n",
    "            agora = datetime.now().hour\n",
    "            if (agora > hora or agora == 0):\n",
    "                if lightclientes >= limite:\n",
    "                    gatilho('Light',lightclientes)\n",
    "                    lightclientes = 0\n",
    "                if EnelClientesBR >= limite:\n",
    "                    gatilho('Light',EnelClientesBR)\n",
    "                    EnelClientesBR = 0                \n",
    "                hora = agora\n",
    "                lightclientes = 0\n",
    "                EnelClientesBR = 0\n",
    "\n",
    "            with open('aneel_distribuidoras.csv', 'a') as file:\n",
    "                writer = csv.DictWriter(file, fieldnames=header_name)\n",
    "                info = {\n",
    "                    'Light': lightclientes,\n",
    "                    'Grupo Enel': EnelClientesBR\n",
    "                }\n",
    "                writer.writerow(info)\n",
    "            print(tweets)\n",
    "        except:\n",
    "            print('Found an Error')\n",
    "        \n",
    "    def on_error(self, status):\n",
    "        print(status)"
   ]
  },
  {
   "cell_type": "code",
   "execution_count": null,
   "metadata": {},
   "outputs": [],
   "source": [
    "twitter_stream = Stream(auth, Listener())\n",
    "twitter_stream.filter(track = ['@lightclientes', '@EnelClientesBR'])"
   ]
  },
  {
   "cell_type": "code",
   "execution_count": null,
   "metadata": {},
   "outputs": [],
   "source": []
  }
 ],
 "metadata": {
  "kernelspec": {
   "display_name": "Python 3",
   "language": "python",
   "name": "python3"
  },
  "language_info": {
   "codemirror_mode": {
    "name": "ipython",
    "version": 3
   },
   "file_extension": ".py",
   "mimetype": "text/x-python",
   "name": "python",
   "nbconvert_exporter": "python",
   "pygments_lexer": "ipython3",
   "version": "3.7.3"
  }
 },
 "nbformat": 4,
 "nbformat_minor": 4
}
