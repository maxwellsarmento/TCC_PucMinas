{
 "cells": [
  {
   "cell_type": "markdown",
   "metadata": {},
   "source": [
    "<h2 align=center>Análise Exploratória dos dados de contatos dos consumidores</h2>"
   ]
  },
  {
   "cell_type": "markdown",
   "metadata": {
    "heading_collapsed": true
   },
   "source": [
    "### Bibliotecas"
   ]
  },
  {
   "cell_type": "code",
   "execution_count": 2,
   "metadata": {},
   "outputs": [],
   "source": [
    "import pandas as pd\n",
    "import numpy as np\n",
    "import matplotlib.pyplot as plt\n",
    "import seaborn as sns\n",
    "import calmap\n",
    "from pandas_profiling import ProfileReport\n",
    "%matplotlib inline"
   ]
  },
  {
   "cell_type": "markdown",
   "metadata": {},
   "source": [
    "### Carregamento dos dados e exploração inicial - Tweets carregados"
   ]
  },
  {
   "cell_type": "code",
   "execution_count": 15,
   "metadata": {},
   "outputs": [],
   "source": [
    "df = pd.read_csv('f:\\\\Coursera Guided Projects\\\\EDA with Python and Pandas\\\\TCC\\\\tweets.csv', sep = '|', encoding = 'utf-8')"
   ]
  },
  {
   "cell_type": "code",
   "execution_count": 16,
   "metadata": {},
   "outputs": [
    {
     "data": {
      "text/html": [
       "<div>\n",
       "<style scoped>\n",
       "    .dataframe tbody tr th:only-of-type {\n",
       "        vertical-align: middle;\n",
       "    }\n",
       "\n",
       "    .dataframe tbody tr th {\n",
       "        vertical-align: top;\n",
       "    }\n",
       "\n",
       "    .dataframe thead th {\n",
       "        text-align: right;\n",
       "    }\n",
       "</style>\n",
       "<table border=\"1\" class=\"dataframe\">\n",
       "  <thead>\n",
       "    <tr style=\"text-align: right;\">\n",
       "      <th></th>\n",
       "      <th>Distribuidora</th>\n",
       "      <th>Unnamed: 1</th>\n",
       "      <th>Original</th>\n",
       "      <th>Regex</th>\n",
       "      <th>Date</th>\n",
       "    </tr>\n",
       "  </thead>\n",
       "  <tbody>\n",
       "    <tr>\n",
       "      <th>0</th>\n",
       "      <td>DistribuidoraTwitterAmazonasEnergia</td>\n",
       "      <td>1</td>\n",
       "      <td>⚡Presidente do conselho da @amazonasenergia di...</td>\n",
       "      <td>⚡Presidente do conselho da diz que perda de va...</td>\n",
       "      <td>2021-02-01 13:01:40</td>\n",
       "    </tr>\n",
       "    <tr>\n",
       "      <th>1</th>\n",
       "      <td>DistribuidoraTwitterAmazonasEnergia</td>\n",
       "      <td>2</td>\n",
       "      <td>@Amazonasenergia tá de brincadeira com o disju...</td>\n",
       "      <td>tá de brincadeira com o disjuntor? 3 vezes em ...</td>\n",
       "      <td>2021-01-31 01:32:40</td>\n",
       "    </tr>\n",
       "    <tr>\n",
       "      <th>2</th>\n",
       "      <td>DistribuidoraTwitterAmazonasEnergia</td>\n",
       "      <td>3</td>\n",
       "      <td>@Amazonasenergia gostaria de saber quanto temp...</td>\n",
       "      <td>gostaria de saber quanto tempo dura esse almoç...</td>\n",
       "      <td>2021-01-29 17:42:50</td>\n",
       "    </tr>\n",
       "    <tr>\n",
       "      <th>3</th>\n",
       "      <td>CEA</td>\n",
       "      <td>1</td>\n",
       "      <td>Se for na @CEA_AP é capaz de vir mais cara. Aq...</td>\n",
       "      <td>Se for na é capaz de vir mais cara. Aqui em ca...</td>\n",
       "      <td>2021-02-04 02:29:30</td>\n",
       "    </tr>\n",
       "    <tr>\n",
       "      <th>4</th>\n",
       "      <td>CEA</td>\n",
       "      <td>2</td>\n",
       "      <td>@breendatayane @CEA_AP aqui foi embora 11h e v...</td>\n",
       "      <td>aqui foi embora 11h e voltou 15h. lembrei do r...</td>\n",
       "      <td>2021-02-02 18:02:05</td>\n",
       "    </tr>\n",
       "    <tr>\n",
       "      <th>5</th>\n",
       "      <td>CEA</td>\n",
       "      <td>3</td>\n",
       "      <td>Tava demorando a palhaçada @CEA_AP</td>\n",
       "      <td>Tava demorando a palhaçada</td>\n",
       "      <td>2021-02-02 18:01:31</td>\n",
       "    </tr>\n",
       "    <tr>\n",
       "      <th>6</th>\n",
       "      <td>CEA</td>\n",
       "      <td>4</td>\n",
       "      <td>Começou a época da chuva e iniciou a energia/i...</td>\n",
       "      <td>Começou a época da chuva e iniciou a energia/i...</td>\n",
       "      <td>2021-02-02 15:55:59</td>\n",
       "    </tr>\n",
       "    <tr>\n",
       "      <th>7</th>\n",
       "      <td>CEA</td>\n",
       "      <td>5</td>\n",
       "      <td>@CEA_AP a energia foi passear</td>\n",
       "      <td>a energia foi passear</td>\n",
       "      <td>2021-02-02 14:17:03</td>\n",
       "    </tr>\n",
       "    <tr>\n",
       "      <th>8</th>\n",
       "      <td>CEA</td>\n",
       "      <td>6</td>\n",
       "      <td>Deu uma queda de energia e 2 tomadas pararam d...</td>\n",
       "      <td>Deu uma queda de energia e 2 tomadas pararam d...</td>\n",
       "      <td>2021-02-02 01:18:16</td>\n",
       "    </tr>\n",
       "    <tr>\n",
       "      <th>9</th>\n",
       "      <td>CEA</td>\n",
       "      <td>7</td>\n",
       "      <td>já perdi a conta de quantas quedas de energia ...</td>\n",
       "      <td>já perdi a conta de quantas quedas de energia ...</td>\n",
       "      <td>2021-01-30 07:42:54</td>\n",
       "    </tr>\n",
       "  </tbody>\n",
       "</table>\n",
       "</div>"
      ],
      "text/plain": [
       "                         Distribuidora  Unnamed: 1  \\\n",
       "0  DistribuidoraTwitterAmazonasEnergia           1   \n",
       "1  DistribuidoraTwitterAmazonasEnergia           2   \n",
       "2  DistribuidoraTwitterAmazonasEnergia           3   \n",
       "3                                  CEA           1   \n",
       "4                                  CEA           2   \n",
       "5                                  CEA           3   \n",
       "6                                  CEA           4   \n",
       "7                                  CEA           5   \n",
       "8                                  CEA           6   \n",
       "9                                  CEA           7   \n",
       "\n",
       "                                            Original  \\\n",
       "0  ⚡Presidente do conselho da @amazonasenergia di...   \n",
       "1  @Amazonasenergia tá de brincadeira com o disju...   \n",
       "2  @Amazonasenergia gostaria de saber quanto temp...   \n",
       "3  Se for na @CEA_AP é capaz de vir mais cara. Aq...   \n",
       "4  @breendatayane @CEA_AP aqui foi embora 11h e v...   \n",
       "5                 Tava demorando a palhaçada @CEA_AP   \n",
       "6  Começou a época da chuva e iniciou a energia/i...   \n",
       "7                      @CEA_AP a energia foi passear   \n",
       "8  Deu uma queda de energia e 2 tomadas pararam d...   \n",
       "9  já perdi a conta de quantas quedas de energia ...   \n",
       "\n",
       "                                               Regex                 Date  \n",
       "0  ⚡Presidente do conselho da diz que perda de va...  2021-02-01 13:01:40  \n",
       "1  tá de brincadeira com o disjuntor? 3 vezes em ...  2021-01-31 01:32:40  \n",
       "2  gostaria de saber quanto tempo dura esse almoç...  2021-01-29 17:42:50  \n",
       "3  Se for na é capaz de vir mais cara. Aqui em ca...  2021-02-04 02:29:30  \n",
       "4  aqui foi embora 11h e voltou 15h. lembrei do r...  2021-02-02 18:02:05  \n",
       "5                         Tava demorando a palhaçada  2021-02-02 18:01:31  \n",
       "6  Começou a época da chuva e iniciou a energia/i...  2021-02-02 15:55:59  \n",
       "7                              a energia foi passear  2021-02-02 14:17:03  \n",
       "8  Deu uma queda de energia e 2 tomadas pararam d...  2021-02-02 01:18:16  \n",
       "9  já perdi a conta de quantas quedas de energia ...  2021-01-30 07:42:54  "
      ]
     },
     "execution_count": 16,
     "metadata": {},
     "output_type": "execute_result"
    }
   ],
   "source": [
    "df.head(10)"
   ]
  },
  {
   "cell_type": "code",
   "execution_count": 17,
   "metadata": {},
   "outputs": [],
   "source": [
    "df.columns=['Distribuidora', 'Ordem', 'Original', 'Regex', 'Date']"
   ]
  },
  {
   "cell_type": "code",
   "execution_count": 18,
   "metadata": {},
   "outputs": [
    {
     "data": {
      "text/plain": [
       "Distribuidora    object\n",
       "Ordem             int64\n",
       "Original         object\n",
       "Regex            object\n",
       "Date             object\n",
       "dtype: object"
      ]
     },
     "execution_count": 18,
     "metadata": {},
     "output_type": "execute_result"
    }
   ],
   "source": [
    "df.dtypes"
   ]
  },
  {
   "cell_type": "code",
   "execution_count": 19,
   "metadata": {},
   "outputs": [
    {
     "data": {
      "text/plain": [
       "Distribuidora    7075\n",
       "Ordem            7075\n",
       "Original         7075\n",
       "Regex            6924\n",
       "Date             7075\n",
       "dtype: int64"
      ]
     },
     "execution_count": 19,
     "metadata": {},
     "output_type": "execute_result"
    }
   ],
   "source": [
    "df.count()"
   ]
  },
  {
   "cell_type": "code",
   "execution_count": 20,
   "metadata": {},
   "outputs": [
    {
     "data": {
      "text/html": [
       "<div>\n",
       "<style scoped>\n",
       "    .dataframe tbody tr th:only-of-type {\n",
       "        vertical-align: middle;\n",
       "    }\n",
       "\n",
       "    .dataframe tbody tr th {\n",
       "        vertical-align: top;\n",
       "    }\n",
       "\n",
       "    .dataframe thead tr th {\n",
       "        text-align: left;\n",
       "    }\n",
       "\n",
       "    .dataframe thead tr:last-of-type th {\n",
       "        text-align: right;\n",
       "    }\n",
       "</style>\n",
       "<table border=\"1\" class=\"dataframe\">\n",
       "  <thead>\n",
       "    <tr>\n",
       "      <th></th>\n",
       "      <th>Ordem</th>\n",
       "    </tr>\n",
       "    <tr>\n",
       "      <th></th>\n",
       "      <th>count</th>\n",
       "    </tr>\n",
       "    <tr>\n",
       "      <th>Distribuidora</th>\n",
       "      <th></th>\n",
       "    </tr>\n",
       "  </thead>\n",
       "  <tbody>\n",
       "    <tr>\n",
       "      <th>CEA</th>\n",
       "      <td>35</td>\n",
       "    </tr>\n",
       "    <tr>\n",
       "      <th>CEB</th>\n",
       "      <td>320</td>\n",
       "    </tr>\n",
       "    <tr>\n",
       "      <th>CEEE</th>\n",
       "      <td>238</td>\n",
       "    </tr>\n",
       "    <tr>\n",
       "      <th>CPFL (Grupo)</th>\n",
       "      <td>76</td>\n",
       "    </tr>\n",
       "    <tr>\n",
       "      <th>Celesc</th>\n",
       "      <td>159</td>\n",
       "    </tr>\n",
       "    <tr>\n",
       "      <th>Celpe</th>\n",
       "      <td>177</td>\n",
       "    </tr>\n",
       "    <tr>\n",
       "      <th>Cemig</th>\n",
       "      <td>136</td>\n",
       "    </tr>\n",
       "    <tr>\n",
       "      <th>Coelba</th>\n",
       "      <td>71</td>\n",
       "    </tr>\n",
       "    <tr>\n",
       "      <th>Copel</th>\n",
       "      <td>79</td>\n",
       "    </tr>\n",
       "    <tr>\n",
       "      <th>Cosern</th>\n",
       "      <td>72</td>\n",
       "    </tr>\n",
       "    <tr>\n",
       "      <th>DistribuidoraTwitterAmazonasEnergia</th>\n",
       "      <td>3</td>\n",
       "    </tr>\n",
       "    <tr>\n",
       "      <th>EDP</th>\n",
       "      <td>99</td>\n",
       "    </tr>\n",
       "    <tr>\n",
       "      <th>Elektro</th>\n",
       "      <td>89</td>\n",
       "    </tr>\n",
       "    <tr>\n",
       "      <th>Enel (Grupo)</th>\n",
       "      <td>2223</td>\n",
       "    </tr>\n",
       "    <tr>\n",
       "      <th>Energisa (Grupo)</th>\n",
       "      <td>99</td>\n",
       "    </tr>\n",
       "    <tr>\n",
       "      <th>Equatorial Alagoas</th>\n",
       "      <td>11</td>\n",
       "    </tr>\n",
       "    <tr>\n",
       "      <th>Equatorial Maranhão</th>\n",
       "      <td>51</td>\n",
       "    </tr>\n",
       "    <tr>\n",
       "      <th>Equatorial Pará</th>\n",
       "      <td>101</td>\n",
       "    </tr>\n",
       "    <tr>\n",
       "      <th>Equatorial Piauí</th>\n",
       "      <td>44</td>\n",
       "    </tr>\n",
       "    <tr>\n",
       "      <th>Light</th>\n",
       "      <td>2927</td>\n",
       "    </tr>\n",
       "    <tr>\n",
       "      <th>RGE</th>\n",
       "      <td>65</td>\n",
       "    </tr>\n",
       "  </tbody>\n",
       "</table>\n",
       "</div>"
      ],
      "text/plain": [
       "                                    Ordem\n",
       "                                    count\n",
       "Distribuidora                            \n",
       "CEA                                    35\n",
       "CEB                                   320\n",
       "CEEE                                  238\n",
       "CPFL (Grupo)                           76\n",
       "Celesc                                159\n",
       "Celpe                                 177\n",
       "Cemig                                 136\n",
       "Coelba                                 71\n",
       "Copel                                  79\n",
       "Cosern                                 72\n",
       "DistribuidoraTwitterAmazonasEnergia     3\n",
       "EDP                                    99\n",
       "Elektro                                89\n",
       "Enel (Grupo)                         2223\n",
       "Energisa (Grupo)                       99\n",
       "Equatorial Alagoas                     11\n",
       "Equatorial Maranhão                    51\n",
       "Equatorial Pará                       101\n",
       "Equatorial Piauí                       44\n",
       "Light                                2927\n",
       "RGE                                    65"
      ]
     },
     "execution_count": 20,
     "metadata": {},
     "output_type": "execute_result"
    }
   ],
   "source": [
    "df[['Distribuidora','Ordem']].groupby(['Distribuidora']).agg(['count'])"
   ]
  },
  {
   "cell_type": "code",
   "execution_count": 25,
   "metadata": {},
   "outputs": [
    {
     "name": "stderr",
     "output_type": "stream",
     "text": [
      "C:\\Anaconda3\\lib\\site-packages\\seaborn\\_decorators.py:43: FutureWarning: Pass the following variable as a keyword arg: x. From version 0.12, the only valid positional argument will be `data`, and passing other arguments without an explicit keyword will result in an error or misinterpretation.\n",
      "  FutureWarning\n"
     ]
    },
    {
     "data": {
      "image/png": "[encoded data removed]",
      "text/plain": [
       "<Figure size 1440x720 with 1 Axes>"
      ]
     },
     "metadata": {
      "needs_background": "light"
     },
     "output_type": "display_data"
    }
   ],
   "source": [
    "y = df.Distribuidora\n",
    "plt.figure(figsize=(20,10))\n",
    "sns.countplot(y,label=\"Contagem\")\n",
    "plt.xticks(rotation=90);"
   ]
  }
 ],
 "metadata": {
  "kernelspec": {
   "display_name": "Python 3",
   "language": "python",
   "name": "python3"
  },
  "language_info": {
   "codemirror_mode": {
    "name": "ipython",
    "version": 3
   },
   "file_extension": ".py",
   "mimetype": "text/x-python",
   "name": "python",
   "nbconvert_exporter": "python",
   "pygments_lexer": "ipython3",
   "version": "3.7.3"
  }
 },
 "nbformat": 4,
 "nbformat_minor": 4
}
